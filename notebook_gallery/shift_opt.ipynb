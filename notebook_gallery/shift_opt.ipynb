{
 "cells": [
  {
   "cell_type": "markdown",
   "metadata": {},
   "source": [
    "# シフト最適化問題\n",
    "\n",
    "シフト最適化問題とは、特定の条件や制約を満たしつつ、従業員のシフトを効率的に配置し、労働時間やコストを最小化する問題です。本チュートリアルでは、労働時間の最小化を目的としたシフト最適化問題をどのように解くかを説明します。\n",
    "\n",
    "## 問題設定\n",
    "\n",
    "以下では、複数の作業者に対して複数の仕事を割り当てた際の賃金の合計を最小化するシフト最適化問題を考えます。ただし、賃金は作業者毎に定められており、日給制であるとします。各仕事の開始時刻と終了時刻、各作業者の賃金が与えられたとき、以下の制約を満たしながら賃金の合計を最小化するにはどうすれば良いでしょうか？\n",
    "\n",
    "- 各仕事は1人の作業者を必要とする。\n",
    "- 作業者は同時に複数の仕事をすることができない。\n",
    "\n",
    "具体例として、以下の画像のような場合を考えてみましょう。\n",
    "\n",
    "![](./assets/shift_opt01.png)\n",
    "\n",
    "この場合、仕事Aと仕事Bは作業時間が重なっていないので、1人の作業者がこれらの仕事を行えます。そのため、作業者は2人で十分であり、賃金の安い作業者から順に仕事を割り当てれば賃金の合計が300ドルで済むことがわかります。"
   ]
  },
  {
   "cell_type": "markdown",
   "metadata": {},
   "source": [
    "## 事前準備\n",
    "\n",
    "上記のようなシフト最適化問題の数理モデルを構築する前に、仕事の開始時刻と終了時刻のリストおよび作業時間が重なる仕事のリストを準備しましょう。\n",
    "\n",
    "まずは、仕事の開始時刻と終了時刻のリストです。"
   ]
  },
  {
   "cell_type": "code",
   "execution_count": null,
   "metadata": {},
   "outputs": [],
   "source": [
    "from datetime import time\n",
    "job_list = [\n",
    "    (time(17, 0), time(18, 0)), # job 0\n",
    "    (time(13, 0), time(14, 0)), # job 1\n",
    "    (time(13, 30), time(14, 30)), # job 2\n",
    "    (time(13, 40), time(14, 40)), # job 3\n",
    "    (time(16, 40), time(17, 40)), # job 4\n",
    "    (time(11, 40), time(13, 40)), # job 5\n",
    "    (time(18, 40), time(19, 40)), # job 6\n",
    "    (time(18, 40), time(19, 40)), # job 7\n",
    "    (time(18, 00), time(19, 00)), # job 8\n",
    "]"
   ]
  },
  {
   "cell_type": "markdown",
   "metadata": {},
   "source": [
    "次に、作業時間が重なっている仕事を見つけるために、 `networkx` を利用して仕事の関係性を示すグラフを作りましょう。以下のコードで出来上がるグラフは、点 `i` が仕事 `job_list[i]` と対応しており、辺はその両端の点に対応する仕事の作業時間が重なっていることを示しています。"
   ]
  },
  {
   "cell_type": "code",
   "execution_count": null,
   "metadata": {},
   "outputs": [],
   "source": [
    "import networkx as nx\n",
    "\n",
    "def has_overlap(t1start: time, t1end: time, t2start: time, t2end: time):\n",
    "    return (t1start <= t2start <= t1end) or (t2start <= t1start <= t2end)\n",
    "\n",
    "def gen_index_graph(time_list: list[tuple[time, time]]) -> nx.Graph:\n",
    "    G = nx.Graph()\n",
    "    for j in range(len(time_list)):\n",
    "        for k in range(j + 1, len(time_list)):\n",
    "            if has_overlap(\n",
    "                time_list[j][0], time_list[j][1], time_list[k][0], time_list[k][1]\n",
    "            ):\n",
    "                G.add_edge(j, k)\n",
    "\n",
    "    return G"
   ]
  },
  {
   "cell_type": "code",
   "execution_count": null,
   "metadata": {},
   "outputs": [],
   "source": [
    "g = gen_index_graph(job_list)\n",
    "nx.draw_networkx(g, with_labels=True)"
   ]
  },
  {
   "cell_type": "markdown",
   "metadata": {},
   "source": [
    "このグラフからクリーク（clique）と呼ばれる部分グラフを見つけることで、作業時間が重なる仕事がわかります。 `networkx` には、このクリークを見つけるための関数 `find_cliques` が用意されているので、それを使ってクリークを見つけ、作業時間が重なる仕事を特定しましょう。"
   ]
  },
  {
   "cell_type": "code",
   "execution_count": null,
   "metadata": {},
   "outputs": [],
   "source": [
    "job_cliques = []\n",
    "for c in nx.find_cliques(g):\n",
    "    job_cliques.append(list(set(c)))\n",
    "\n",
    "print(job_cliques)"
   ]
  },
  {
   "cell_type": "markdown",
   "metadata": {},
   "source": [
    "例えば、仕事 `0` は仕事 `8` と作業時間が重なっていることがわかります。実際に、仕事 `0` の作業時間は17:00から18:00であり、仕事 `8` は18:00から19:00のため、18:00丁度で作業時間が重なってしまっています。他にも、仕事 `1`, `2`, `3`, `5` の作業時間がお互いに重なってしまっていることがわかります。"
   ]
  },
  {
   "cell_type": "markdown",
   "metadata": {},
   "source": [
    "## 数理モデルの定式化\n",
    "\n",
    "シフト最適化問題の数理モデルを定式化をはじめましょう。今回の問題設定および定式化は [こちら](https://scmopt.github.io/opt100/81shift-minimization.html) のシフト最適化問題の例をベースにしています。\n",
    "\n",
    "### パラメーター\n",
    "\n",
    "今回の問題設定には以下のようなパラメーターが存在しています。\n",
    "\n",
    "* $W$: 作業者の人数（例: `5`）\n",
    "* $J$: 仕事の数（例: `5`）\n",
    "* $b_w$: 作業者の賃金（例: `[1, 2, 3, 2, 1]`）\n",
    "* $C$: 作業時間が重なっている仕事の集まり（例: `[[1,4], [4,2,3,5], [2,3]]`）\n",
    "* $Nc$: 作業時間が重なっている仕事の集まりの数\n",
    "\n",
    "### 決定変数\n",
    "\n",
    "今回の定式化では、以下の2つの決定変数 $x$ , $y$ を利用します。\n",
    "\n",
    "$$\n",
    "x_{j,w} = \\begin{cases}\n",
    "1~\\text{(作業者 {\\it w} が仕事 {\\it j} にアサインされている場合)}\\\\\n",
    "0~\\text{(それ以外)}\\\\\n",
    "\\end{cases}\n",
    "$$\n",
    "\n",
    "$$\n",
    "y_{w} = \\begin{cases}\n",
    "1~\\text{(作業者 {\\it w} がアサインされている場合)}\\\\\n",
    "0~\\text{(作業者 {\\it w} がアサインされていない場合)}\\\\\n",
    "\\end{cases}\n",
    "$$\n",
    "\n",
    "### 目的関数\n",
    "\n",
    "今回の問題設定では、仕事にアサインされている作業者の賃金の合計を最小化することが目的です。よって、以下のように定式化することができます。\n",
    "\n",
    "$$\n",
    "\\min \\sum_w b_{w} y_{w}\n",
    "$$\n",
    "\n",
    "### 制約\n",
    "\n",
    "今回の問題設定における2つの制約は、以下のように定式化することができます。\n",
    "\n",
    "* 各仕事は1人の作業者を必要とする。\n",
    "\n",
    "$$\n",
    "\\sum_w x_{j, w} = 1, ~\\forall j \\in \\{0, ..., J-1\\}\n",
    "$$\n",
    "\n",
    "* 作業者は同時に複数の仕事をすることができない。\n",
    "\n",
    "$$\n",
    "\\sum_{l \\in C_{c}} x_{l, w} \\leq y_{w}, ~\\forall w \\in \\{0, ..., W-1\\}, c \\in \\{0, ..., Nc-1\\}\n",
    "$$"
   ]
  },
  {
   "cell_type": "markdown",
   "metadata": {},
   "source": [
    "## JijModelingによる定式化\n",
    "\n",
    "さて、JijModelingで数理モデルを実装しましょう。以下のコードにより、上記の定式化に従った数理モデルを実装することができます。"
   ]
  },
  {
   "cell_type": "code",
   "execution_count": null,
   "metadata": {},
   "outputs": [],
   "source": [
    "import jijmodeling as jm\n",
    "\n",
    "W = jm.Placeholder(\"W\")\n",
    "w = jm.Element(\"w\", belong_to=W)\n",
    "J = jm.Placeholder(\"J\")\n",
    "j = jm.Element(\"j\", belong_to=J)\n",
    "b = jm.Placeholder(\"b\", ndim=1)\n",
    "C = jm.Placeholder(\"C\", ndim=2)\n",
    "Nc = jm.Placeholder(\"Nc\")\n",
    "c = jm.Element(\"c\", belong_to=Nc)\n",
    "l = jm.Element(\"l\", belong_to=C[c])\n",
    "\n",
    "y = jm.BinaryVar(\"y\", shape=(W,))\n",
    "x = jm.BinaryVar(\"x\", shape=(J, W))\n",
    "\n",
    "problem = jm.Problem(\"shift schedule\")\n",
    "\n",
    "problem += jm.sum(w, b[w] * y[w])\n",
    "\n",
    "problem += jm.Constraint(\"const_do_all_jobs\", jm.sum(w, x[j, w]) == 1, forall=[j])\n",
    "\n",
    "problem += jm.Constraint(\n",
    "    \"const_worker_limit\", jm.sum(l, x[l, w]) <= y[w], forall=[w, c]\n",
    ")\n",
    "\n",
    "problem"
   ]
  },
  {
   "cell_type": "markdown",
   "metadata": {},
   "source": [
    "## シフト最適化問題を解く\n",
    "\n",
    "では、5つの仕事と5人の作業者がいるケースを解いてみましょう。まずは数理モデルのパラメーターに入力するインスタンスデータを用意しましょう。"
   ]
  },
  {
   "cell_type": "code",
   "execution_count": null,
   "metadata": {},
   "outputs": [],
   "source": [
    "workers_costs = [1, 4, 3, 2, 5]\n",
    "job_list = [\n",
    "    (time(17, 0), time(18, 0)),\n",
    "    (time(13, 0), time(14, 0)),\n",
    "    (time(13, 30), time(14, 30)),\n",
    "    (time(13, 40), time(14, 40)),\n",
    "    (time(16, 40), time(16, 50)),\n",
    "]\n",
    "\n",
    "g = gen_index_graph(job_list)\n",
    "job_cliques = []\n",
    "for c in nx.find_cliques(g):\n",
    "    job_cliques.append(list(set(c)))\n",
    "\n",
    "instance_data = {\n",
    "    \"W\": len(workers_costs),\n",
    "    \"J\": len(job_list),\n",
    "    \"b\": workers_costs,\n",
    "    \"C\": job_cliques,\n",
    "    \"Nc\": len(job_cliques),\n",
    "}"
   ]
  },
  {
   "cell_type": "markdown",
   "metadata": {},
   "source": [
    "次に、実装した数理モデルとインスタンスデータを合わせて、シフト最適化問題を解きましょう。以下のコードで解くことができます。"
   ]
  },
  {
   "cell_type": "code",
   "execution_count": null,
   "metadata": {},
   "outputs": [],
   "source": [
    "import jijzept_solver\n",
    "\n",
    "interpreter = jm.Interpreter(instance_data)\n",
    "ommx_instance = interpreter.eval_problem(problem)\n",
    "\n",
    "ommx_solution = jijzept_solver.solve(ommx_instance, time_limit_sec=4)"
   ]
  },
  {
   "cell_type": "markdown",
   "metadata": {},
   "source": [
    "## 解の可視化\n",
    "\n",
    "最後に、得られた結果から賃金の合計の最小値と仕事の割り当て方を確認してみましょう。まずは、賃金の合計の最小値からです。賃金の合計は目的関数で表現されていたので、目的関数値を確認することで、その最小値を知ることができます。"
   ]
  },
  {
   "cell_type": "code",
   "execution_count": null,
   "metadata": {},
   "outputs": [],
   "source": [
    "ommx_solution.objective"
   ]
  },
  {
   "cell_type": "markdown",
   "metadata": {},
   "source": [
    "次に、作業者への仕事の割り当て方を可視化してみましょう。以下のコードで可視化することができます。"
   ]
  },
  {
   "cell_type": "code",
   "execution_count": null,
   "metadata": {},
   "outputs": [],
   "source": [
    "import matplotlib.pyplot as plt\n",
    "\n",
    "def plot_sol(job_list: list[tuple[time, time]], y: list[int], x: list[list[int]]):\n",
    "    factor = 24 / 86400\n",
    "    bar_job_list = [\n",
    "        (\n",
    "            (e1.hour*3600 + e1.minute*60 + e1.second) * factor,\n",
    "            ((e2.hour*3600 + e2.minute*60 + e2.second) - (e1.hour*3600 + e1.minute*60 + e1.second)) * factor\n",
    "        )\n",
    "        for e1, e2 in job_list\n",
    "    ]\n",
    "\n",
    "    _, ax = plt.subplots()\n",
    "    for i, val in enumerate(y):\n",
    "        if val == 1:\n",
    "            bar = []\n",
    "            for j in range(len(bar_job_list)):\n",
    "                if [j, i] in x:\n",
    "                    bar.append(bar_job_list[j])\n",
    "\n",
    "            ax.broken_barh(bar, (10*(i+1)-2.5, 5))\n",
    "\n",
    "    ax.set_xlim(0, 24)\n",
    "    ax.set_xlabel(\"job schedule time [Hour]\")\n",
    "    ax.set_yticks([10*(i+1) for i,_ in enumerate(y)], labels=[f\"workers {i}\" for i,_ in enumerate(y)])  # Modify y-axis tick labels\n",
    "    ax.grid(True)\n",
    "\n",
    "    plt.show()"
   ]
  },
  {
   "cell_type": "code",
   "execution_count": null,
   "metadata": {},
   "outputs": [],
   "source": [
    "df = ommx_solution.decision_variables_df\n",
    "solution_y = df[df[\"name\"] == \"y\"][\"value\"].to_list()\n",
    "solution_x = df[(df[\"name\"] == \"x\") & (df[\"value\"] == 1)][\"subscripts\"].to_list()\n",
    "plot_sol(job_list, solution_y, solution_x)"
   ]
  },
  {
   "cell_type": "markdown",
   "metadata": {},
   "source": [
    "上記の図の青い部分が割り当てられた仕事です。この図から今回のケースでは作業者 `0`, `2`, `3` だけ仕事をアサインすれば良いことがわかります。作業者 `0` の賃金は1, 作業者 `2` の賃金は3, 作業者 `3` の賃金は2なので、賃金の合計は6になります。確かに賃金の合計が最小値となる割り当て方になっています。"
   ]
  }
 ],
 "metadata": {
  "kernelspec": {
   "display_name": ".venv",
   "language": "python",
   "name": "python3"
  },
  "language_info": {
   "codemirror_mode": {
    "name": "ipython",
    "version": 3
   },
   "file_extension": ".py",
   "mimetype": "text/x-python",
   "name": "python",
   "nbconvert_exporter": "python",
   "pygments_lexer": "ipython3",
   "version": "3.10.13"
  }
 },
 "nbformat": 4,
 "nbformat_minor": 4
}

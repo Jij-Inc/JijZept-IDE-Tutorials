{
 "cells": [
  {
   "cell_type": "markdown",
   "metadata": {},
   "source": [
    "# 巡回セールスマン問題\n",
    "\n",
    "巡回セールスマン問題とは、セールスマンが各都市を一度ずつ訪問し、出発点に戻る際の移動距離を最小化する問題です。本チュートリアルでは、日本の首都圏を舞台に巡回セールスマン問題をどのように解くかを説明します。"
   ]
  },
  {
   "cell_type": "markdown",
   "metadata": {},
   "source": [
    "## 定式化\n",
    "\n",
    "以下では、$n$ 都市の巡回セールスマン問題を考えることとします。また、巡回セールスマン問題はいくつかの線形定式化が知られていますが、本チュートリアルでは次のような2次定式化を採用するものとします。\n",
    "\n",
    "### 決定変数\n",
    "\n",
    "決定変数 $x_{i, t}$ を次のように定義するものとします。\n",
    "\n",
    "$$\n",
    "x_{i,t} = \\begin{cases}\n",
    "1~\\text{the salesman visits $t$-th city $i$,}\\\\\n",
    "0~\\text{otherwise}\\\\\n",
    "\\end{cases}\n",
    "$$\n",
    "\n",
    "$$\n",
    "i, t \\in \\{0, ..., n-1\\}\n",
    "$$\n",
    "\n",
    "すなわち、$x_{i, t}$ はセールスマンが $t$ 番目に都市 $i$ を訪れた場合に1になり、そうでない時に0になるバイナリ変数です。\n",
    "\n",
    "### 制約\n",
    "\n",
    "次に以下の2つの制約を考えます。\n",
    "\n",
    "1. 都市 $i$ に訪れるのは1度だけ\n",
    "\n",
    "$$\n",
    "\\sum_t x_{i, t} = 1, ~\\forall i\n",
    "$$\n",
    "\n",
    "2. $t$ 番目に訪れる都市は1つだけ\n",
    "\n",
    "$$\n",
    "\\sum_i x_{i, t} = 1, ~\\forall t \n",
    "$$\n",
    "\n",
    "この2つの制約条件は $x_{i, t}$ がセールスマンの都市を巡る順序を表現する上で必要なものになっています。なぜなら、セールスマンは同時に複数の都市を訪問することはできませんし、同じ都市に何度も行く必要はないからです。\n",
    "\n",
    "以下の図は、この2つの制約条件を満たしながら $x_{i, t}$ に値を割り当てたものになっています。このようなイメージで定式化を捉えると以降の説明が理解しやすくなるでしょう。\n",
    "\n",
    "![](./assets/tsp_variable.png)\n",
    "\n",
    "### 目的関数\n",
    "\n",
    "最後に目的関数を考えましょう。巡回セールスマン問題はセールスマンの移動距離を最小化する問題なので、次のように定式化することができます。\n",
    "\n",
    "$$\n",
    "\\sum_{i,j,t} d_{i, j}x_{i, t}x_{j, (t+1)\\mod n}\n",
    "$$\n",
    "\n",
    "ここで $d_{i, j}$ は都市 $i$ と都市 $j$ の距離です。 $x_{i, t}x_{i, t+1}$ は $t$ 番目に都市 $i$ を訪れ、 $t+1$ 番目に都市 $j$ を訪れた時に値が1になり、そうでない時には値が0になります。上記の式で $x_{j, (t+1)\\mod n}$ に $\\mod n$ が含まれているのは、$n$ 番目に訪れた都市 $j$ から最初の都市に戻る移動を表現するためです。\n",
    "\n",
    "### $n$都市の巡回セールスマン問題\n",
    "\n",
    "これで定式化に必要なものが揃いました。$n$ 都市の巡回セールスマン問題は以下のように数理モデルで表すことができます。\n",
    "\n",
    "$$\n",
    "\\begin{aligned}\n",
    "\\min_x \\sum_{i, j} &d_{i,j} \\sum_t x_{i,t} x_{j, (t+1) \\mod n}\\\\\n",
    "\\mathrm{s.t.}~&\\sum_i x_{i, t} = 1,~\\forall t\\\\\n",
    "&\\sum_t x_{i, t} = 1, ~\\forall i\\\\\n",
    "&x_{i, t} \\in \\{0, 1\\}\n",
    "\\end{aligned}\n",
    "$$"
   ]
  },
  {
   "cell_type": "markdown",
   "metadata": {},
   "source": [
    "## JijModelingによる定式化\n",
    "\n",
    "JijModelingを使って上記の数理モデルを実装してみましょう。まずは、数理モデルに現れる変数およびパラメーターを定義します。"
   ]
  },
  {
   "cell_type": "code",
   "execution_count": null,
   "metadata": {},
   "outputs": [],
   "source": [
    "import jijmodeling as jm\n",
    "\n",
    "d = jm.Placeholder('d', ndim=2)\n",
    "N = d.len_at(0, latex=\"N\")\n",
    "i = jm.Element('i', belong_to=(0, N))\n",
    "j = jm.Element('j', belong_to=(0, N))\n",
    "t = jm.Element('t', belong_to=(0, N))\n",
    "x = jm.BinaryVar('x', shape=(N, N))"
   ]
  },
  {
   "cell_type": "markdown",
   "metadata": {},
   "source": [
    "ここで `d` は 都市 $i$ と都市 $j$ の距離 $d_{i, j}$ を要素に持つ2次元リストで、 `N` は都市数です。また、後の数理モデルの構築のために添字 `i`, `j`, `t`を定義しており、 `i`, `j` は都市 $i$ や $j$ を意味し、 `t` は何番目に訪れるかを意味しています。そして、$x_{i, t}$ に相当するバイナリ変数として `x` を定義しています。"
   ]
  },
  {
   "cell_type": "markdown",
   "metadata": {},
   "source": [
    "次に、目的関数を定義しましょう。"
   ]
  },
  {
   "cell_type": "code",
   "execution_count": null,
   "metadata": {},
   "outputs": [],
   "source": [
    "problem = jm.Problem(\"TSP\")\n",
    "problem += jm.sum([i, j], d[i, j] * jm.sum(t, x[i, t]*x[j, (t+1) % N]))"
   ]
  },
  {
   "cell_type": "markdown",
   "metadata": {},
   "source": [
    "最後に、2つの制約条件を定義しましょう。"
   ]
  },
  {
   "cell_type": "code",
   "execution_count": null,
   "metadata": {},
   "outputs": [],
   "source": [
    "problem += jm.Constraint(\"one-city\", x[:, t].sum() == 1, forall=t)\n",
    "problem += jm.Constraint(\"one-time\", x[i, :].sum() == 1, forall=i)"
   ]
  },
  {
   "attachments": {},
   "cell_type": "markdown",
   "metadata": {},
   "source": [
    "ここでは `\"one-city\"` と名付けられている `jm.Constraint` オブジェクトによって都市 $i$ に訪れるのは1度だけを意味する制約を定義しており、 `\"one-time\"` と名付けられている `jm.Constraint` オブジェクトによって $t$ 番目に訪れる都市は1つだけを意味する制約条件を定義しています。\n",
    "\n",
    "これで数理モデルの実装は完了です。正しく数理モデルが実装されているかをLaTeX表示を通して確認してみましょう。"
   ]
  },
  {
   "cell_type": "code",
   "execution_count": null,
   "metadata": {},
   "outputs": [],
   "source": [
    "problem"
   ]
  },
  {
   "cell_type": "markdown",
   "metadata": {},
   "source": [
    "## インスタンスデータの準備\n",
    "\n",
    "数理モデルが実装できたので、次はパラメーターに入力するインスタンスデータを準備します。ここでは `geopy` を用いて日本の首都圏（関東平野）の都県を回る問題を考えてみます。"
   ]
  },
  {
   "cell_type": "code",
   "execution_count": null,
   "metadata": {},
   "outputs": [],
   "source": [
    "%%capture\n",
    "!pip install geopy"
   ]
  },
  {
   "cell_type": "code",
   "execution_count": null,
   "metadata": {},
   "outputs": [],
   "source": [
    "from geopy.geocoders import Nominatim\n",
    "import numpy as np\n",
    "\n",
    "geolocator = Nominatim(user_agent='python')\n",
    "\n",
    "# set the name list of traveling points\n",
    "points = ['茨城県', '栃木県', '群馬県', '埼玉県', '千葉県', '東京都', '神奈川県']\n",
    "\n",
    "# get the latitude and longitude\n",
    "latlng_list = []\n",
    "for point in points:\n",
    "    location = geolocator.geocode(point)\n",
    "    if location is not None:\n",
    "        latlng_list.append([ location.latitude, location.longitude ])\n",
    "# make distance matrix\n",
    "num_points = len(points)\n",
    "inst_d = np.zeros((num_points, num_points))\n",
    "for i in range(num_points):\n",
    "    for j in range(num_points):\n",
    "        a = np.array(latlng_list[i])\n",
    "        b = np.array(latlng_list[j])\n",
    "        inst_d[i][j] = np.linalg.norm(a-b)\n",
    "# normalize distance matrix\n",
    "inst_d = (inst_d-inst_d.min()) / (inst_d.max()-inst_d.min())\n",
    "\n",
    "geo_data = {'points': points, 'latlng_list': latlng_list}\n",
    "instance_data = {'d': inst_d}"
   ]
  },
  {
   "cell_type": "markdown",
   "metadata": {},
   "source": [
    "## 巡回セールスマン問題を解く\n",
    "\n",
    "さて、これで巡回セールスマン問題を解くためのすべての準備が完了しました。以下のコードを実行して巡回セールスマン問題を解いてみましょう。ここではJijZeptが提供しているソルバー `jijzept_solver` を利用して巡回セールスマン問題を解くこととします。"
   ]
  },
  {
   "cell_type": "code",
   "execution_count": null,
   "metadata": {},
   "outputs": [],
   "source": [
    "import jijzept_solver\n",
    "\n",
    "interpreter = jm.Interpreter(instance_data)\n",
    "ommx_instance = interpreter.eval_problem(problem)\n",
    "\n",
    "ommx_solution = jijzept_solver.solve(ommx_instance, time_limit_sec=4)\n",
    "df = ommx_solution.decision_variables_df\n",
    "df[df[\"value\"] == 1.0]"
   ]
  },
  {
   "cell_type": "markdown",
   "metadata": {},
   "source": [
    "## 解の可視化\n",
    "\n",
    "最後に、上記で得られた解を用いて、セールスマンが都市を訪問する順序を可視化してみましょう。以下のコードでその結果を確認することができます。"
   ]
  },
  {
   "cell_type": "code",
   "execution_count": null,
   "metadata": {},
   "outputs": [],
   "source": [
    "import matplotlib.pyplot as plt\n",
    "\n",
    "x_indices = df[df[\"value\"] == 1.0][\"subscripts\"]\n",
    "tour = [index for index, _ in sorted(x_indices, key=lambda x: x[1])]\n",
    "tour.append(tour[0])\n",
    "\n",
    "position = np.array(geo_data['latlng_list']).T[[1, 0]]\n",
    "\n",
    "plt.axes().set_aspect('equal')\n",
    "plt.plot(*position, \"o\")\n",
    "plt.plot(position[0][tour], position[1][tour], \"-\")\n",
    "plt.show()\n",
    "\n",
    "print(np.array(geo_data['points'])[tour])"
   ]
  }
 ],
 "metadata": {
  "kernelspec": {
   "display_name": ".venv",
   "language": "python",
   "name": "python3"
  },
  "language_info": {
   "codemirror_mode": {
    "name": "ipython",
    "version": 3
   },
   "file_extension": ".py",
   "mimetype": "text/x-python",
   "name": "python",
   "nbconvert_exporter": "python",
   "pygments_lexer": "ipython3",
   "version": "3.10.13"
  }
 },
 "nbformat": 4,
 "nbformat_minor": 4
}

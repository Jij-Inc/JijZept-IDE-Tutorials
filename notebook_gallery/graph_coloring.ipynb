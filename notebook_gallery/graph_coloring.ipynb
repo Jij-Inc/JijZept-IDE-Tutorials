{
 "cells": [
  {
   "cell_type": "markdown",
   "metadata": {},
   "source": [
    "# グラフ彩色問題\n",
    "\n",
    "グラフ彩色問題とは、ある制約条件のもとでグラフの要素に色を割り当てる問題です。本チュートリアルでは、隣接する頂点が同じ色にならないように全ての頂点に色を割り当てる問題を通じて、グラフ彩色問題をどのように解くかを説明します。\n",
    "\n",
    "## 頂点彩色問題とは\n",
    "\n",
    "以下では、隣接する頂点が同じ色にならないように全ての頂点に色を割り当てる頂点彩色問題を考えます。この頂点彩色問題は、下記の図のように解釈することで四色定理を適用することができ、最大でも4つの色で塗り分けれることがわかります。\n",
    "\n",
    "![](./assets/graph_coloring_four_color.png)\n",
    "\n",
    "もし3つの色で頂点が塗り分けられた場合、3-coloringであるといいます。3-coloringで塗り分け可能かどうかを判定する問題はNP完全な問題として有名です。\n",
    "\n",
    "### 例\n",
    "\n",
    "例として、6つの頂点を持つ次の無向グラフを考えてみましょう。\n",
    "\n",
    "![](./assets/graph_coloring_01.png)\n",
    "\n",
    "このグラフは3-coloringです。なぜなら、以下のように3つの色で頂点を塗り分けることで、辺で隣接する頂点同士が異なる色にできるからです。\n",
    "\n",
    "![](./assets/graph_coloring_02.png)\n",
    "\n",
    "\n",
    "### 定式化\n",
    "\n",
    "上の例を一般化して数理モデルを定式化してみましょう。無向グラフ $G=(V, E)$ を $N$ 色で塗り分けるとします。決定変数 $x_{v, n}$ は、頂点 $v$ が色 $n$ で着彩されている場合に1、そうでない場合に0を取るものとします。\n",
    "\n",
    "**制約: 各頂点は1色で塗らなければならない**\n",
    "\n",
    "以下の式は、各頂点 $v$ を1色で塗らなければならないことを意味しています。\n",
    "\n",
    "$$\n",
    "\\sum_{n=0}^{N-1} x_{v, n} \n",
    "= 1 \\quad (\\forall v \\in V) \\tag{1}\n",
    "$$\n",
    "\n",
    "**目的関数: 両端の頂点が同じ色である辺の個数を最小化する**\n",
    "\n",
    "$$\n",
    "\\min \\quad \n",
    "\\sum_{n=0}^{N-1} \\sum_{(uv) \\in E} x_{u, n} x_{v, n} \\tag{2}\n",
    "$$\n",
    "\n",
    "ここで $E$ はグラフ $G$ に含まれる辺の集合で、$(uv)$ は頂点 $u$ と 頂点 $v$ を両端に持つ辺です。\n",
    "この目的関数は少々複雑なので、以下の表を参照しながら理解を深めてみましょう。\n",
    "\n",
    "| $x_{u,n}$ | $x_{v,n}$ | $x_{u,n}x_{v,n}$ |  \n",
    "|-----------|-----------|------------------|\n",
    "|     0     |     0     |         0        |\n",
    "|     0     |     0     |         0        |\n",
    "|     1     |     0     |         0        |\n",
    "|     1     |     1     |         1        |\n",
    "\n",
    "$x_{u, n} u_{v, n}$が1になるには、$x_{u, n}$ と $u_{v, n}$ がともに1である必要があります。 上で定義した通り、$x_{v, n}$ が1になるのは頂点 $v$ が色 $n$ で塗られているときです。そのため、頂点 $u$ と頂点 $v$ が同じ色 $n$ で塗られているときのみ $x_{u, n} u_{v, n}$ が1になります。このことから、この目的関数は、両端の頂点が同じ色の辺があれば増加し、そのような辺がなければ0になることがわかります。つまり、この目的関数は、隣接する頂点が同じ色にならないようにどれだけ塗り分けられたかを示す指標となっています。"
   ]
  },
  {
   "cell_type": "markdown",
   "metadata": {},
   "source": [
    "## JijModelingによる定式化\n",
    "\n",
    "次に、JijModelingを使って上記の数理モデルを実装してみましょう。まずは、数理モデルに現れる変数およびパラメーターを定義します。"
   ]
  },
  {
   "cell_type": "code",
   "execution_count": null,
   "metadata": {},
   "outputs": [],
   "source": [
    "import jijmodeling as jm\n",
    "\n",
    "V = jm.Placeholder(\"V\")\n",
    "E = jm.Placeholder(\"E\", ndim=2)\n",
    "N = jm.Placeholder(\"N\")\n",
    "x = jm.BinaryVar(\"x\", shape=(V, N))\n",
    "n = jm.Element(\"i\", belong_to=(0, N))\n",
    "v = jm.Element(\"v\", belong_to=(0, V))\n",
    "e = jm.Element(\"e\", belong_to=E)"
   ]
  },
  {
   "attachments": {},
   "cell_type": "markdown",
   "metadata": {},
   "source": [
    "ここでは `V` を頂点の数、`E` をグラフ $G$ の辺集合、`N` を色の数として定義しており、$x_{u,v}$ に相当する2次元のバイナリ変数として `x` を定義しています。また、後の数理モデルの構築のために、頂点 $v$ を意味する添字 `v` 、色 $n$ を意味する添字 `n`、辺 $(uv)$ を意味する添字 `e` の定義も行っています。`e[0]` および `e[1]` は辺 $(uv)$ の両端の頂点に相当します。"
   ]
  },
  {
   "cell_type": "markdown",
   "metadata": {},
   "source": [
    "### 制約条件の実装\n",
    "\n",
    "制約条件として式(1)を実装すると以下のようになります。"
   ]
  },
  {
   "cell_type": "code",
   "execution_count": null,
   "metadata": {},
   "outputs": [],
   "source": [
    "problem = jm.Problem(\"Graph Coloring\")\n",
    "problem += jm.Constraint(\"one-color\", x[v, :].sum()==1, forall=v)"
   ]
  },
  {
   "cell_type": "markdown",
   "metadata": {},
   "source": [
    "### 目的関数の実装\n",
    "\n",
    "次に、目的関数として式(2)を実装すると以下のようになります。"
   ]
  },
  {
   "cell_type": "code",
   "execution_count": null,
   "metadata": {},
   "outputs": [],
   "source": [
    "problem += jm.sum([n, e], x[e[0], n]*x[e[1], n])"
   ]
  },
  {
   "cell_type": "markdown",
   "metadata": {},
   "source": [
    "これで数理モデルの実装は完了です。正しく数理モデルが実装されているかをLaTeX表示を通して確認してみましょう。"
   ]
  },
  {
   "cell_type": "code",
   "execution_count": null,
   "metadata": {},
   "outputs": [],
   "source": [
    "problem"
   ]
  },
  {
   "cell_type": "markdown",
   "metadata": {},
   "source": [
    "## インスタンスデータの準備\n",
    "\n",
    "数理モデルが実装できたので、次はパラメーターに入力するインスタンスデータを準備します。ここでは、[NetworkX](https://networkx.org/)を使って頂点が12個のグラフをランダム生成するものとします。"
   ]
  },
  {
   "cell_type": "code",
   "execution_count": null,
   "metadata": {},
   "outputs": [],
   "source": [
    "import networkx as nx\n",
    "\n",
    "inst_V = 12\n",
    "inst_N = 4\n",
    "inst_G = nx.gnp_random_graph(inst_V, 0.4)\n",
    "inst_E = [list(edge) for edge in inst_G.edges]\n",
    "instance_data = {\"V\": inst_V, \"N\": inst_N, \"E\": inst_E}"
   ]
  },
  {
   "cell_type": "markdown",
   "metadata": {},
   "source": [
    "`inst_V` が頂点の個数、`inst_N` が色の数、`inst_E` が辺集合のインスタンスデータです。"
   ]
  },
  {
   "cell_type": "markdown",
   "metadata": {},
   "source": [
    "## 頂点彩色問題を解く\n",
    "\n",
    "さて、これで頂点彩色問題を解くためのすべての準備が完了しました。以下のコードを実行して頂点彩色問題を解いてみましょう。ここではJijZeptが提供しているソルバー `jijzept_solver` を利用して頂点彩色問題を解くこととします。"
   ]
  },
  {
   "cell_type": "code",
   "execution_count": null,
   "metadata": {},
   "outputs": [],
   "source": [
    "import jijzept_solver\n",
    "\n",
    "interpreter = jm.Interpreter(instance_data)\n",
    "ommx_instance = interpreter.eval_problem(problem)\n",
    "\n",
    "ommx_solution = jijzept_solver.solve(ommx_instance, time_limit_sec=4)\n",
    "df = ommx_solution.decision_variables_df\n",
    "df[df[\"value\"] == 1.0]"
   ]
  },
  {
   "cell_type": "markdown",
   "metadata": {},
   "source": [
    "# 解の可視化\n",
    "\n",
    "最後に、上記で得られた解を用いてグラフの塗り分けを行ってみましょう。以下のコードで塗り分けられたグラフを見ることができます。"
   ]
  },
  {
   "cell_type": "code",
   "execution_count": null,
   "metadata": {},
   "outputs": [],
   "source": [
    "import matplotlib.pyplot as plt\n",
    "\n",
    "indices = df[df[\"value\"] == 1.0][\"subscripts\"].to_list()\n",
    "node_colors = [-1] * len(indices)\n",
    "colorlist = [\"gold\", \"violet\", \"limegreen\", \"darkorange\"]\n",
    "for i, j in indices:\n",
    "    node_colors[i] = colorlist[j]\n",
    "nx.draw_networkx(inst_G, node_color=node_colors, with_labels=True)\n",
    "plt.show()"
   ]
  },
  {
   "cell_type": "markdown",
   "metadata": {},
   "source": [
    "## 参考資料\n",
    "\n",
    "- [Lucas, 2014, \"Ising formulations of many NP problems\"](https://www.frontiersin.org/articles/10.3389/fphy.2014.00005/full)."
   ]
  }
 ],
 "metadata": {
  "kernelspec": {
   "display_name": ".venv",
   "language": "python",
   "name": "python3"
  },
  "language_info": {
   "codemirror_mode": {
    "name": "ipython",
    "version": 3
   },
   "file_extension": ".py",
   "mimetype": "text/x-python",
   "name": "python",
   "nbconvert_exporter": "python",
   "pygments_lexer": "ipython3",
   "version": "3.10.13"
  }
 },
 "nbformat": 4,
 "nbformat_minor": 4
}

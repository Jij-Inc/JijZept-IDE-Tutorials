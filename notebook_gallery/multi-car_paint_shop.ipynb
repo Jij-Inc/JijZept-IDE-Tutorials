{
 "cells": [
  {
   "attachments": {},
   "cell_type": "markdown",
   "id": "73aa2d41",
   "metadata": {},
   "source": [
    "# マルチカーペイントショップ問題\n",
    "\n",
    "マルチカーペイントショップ問題（以下、MCPS問題）とは、工場で複数の車種を塗装する際の塗料の切り替え回数を最小化する問題です。本チュートリアルでは、マルチカーペイントショップ問題をどのように解くかを説明します。\n",
    "\n",
    "## 問題設定\n",
    "\n",
    "塗装工程では、顧客の要望によって色が決めるベースコートとその下に塗られるフィラーコートという作業が存在します。フィラーコートで使用される塗料の色はベースコートで使用される塗料の色によって決まり、ベースコートの色が濃い場合は黒色が、ベースコートの色が薄い場合は白色が使用されます。MCPS問題は、このフィラーコートの色の切り替え回数を最小化する問題です。\n",
    "\n",
    "まずは、具体的に考えてみましょう。簡単のために、2つの車種 $C_1, C_2$ だけのケースを考えます。塗装待ちの列に $C_1, C_1, C_2, C_2, C_1, C_2$ の順番で6台の車が入ってきたとします。車種 $C_l$ に対してフィラーコートを黒く塗る台数を $k(C_l) \\ (l=1, 2)$ とし、 $k(C_l)=2, k(C_2)=1$ の場合を考えてみましょう。すなわち、フィラーコート作業で車種1を2台、車種2を1台、黒色に塗る必要がある場合です。この場合、黒で塗る車を $B$ 、白で塗る車を $W$ と書くことにすると、フィラーコートの塗料の切り替え回数が最小になるのは、塗装待ちの列に対して $B, B, B, W, W, W$ になります。\n",
    "\n",
    "## 定式化\n",
    "\n",
    "以下では、車種の数が $n$で、塗装待ちの列に $N$ 台の車が入っている場合を考えます。\n",
    "\n",
    "### 決定変数\n",
    "\n",
    "まず、MCPS問題の決定変数として以下のようなバイナリ変数を定義します。\n",
    "\n",
    "$$\n",
    "q_{i} = \\begin{cases}\n",
    "1~\\text{($i$ 番目の車を黒で塗る場合)}\\\\\n",
    "0~\\text{(それ以外)}\\\\\n",
    "\\end{cases}\n",
    "$$\n",
    "\n",
    "$$\n",
    "i \\in \\{0, ..., N-1\\}\n",
    "$$\n",
    "\n",
    "### 制約\n",
    "\n",
    "MCPS問題の制約として次のようなものが考えられます。\n",
    "\n",
    "- 車種 $C_l$ のうち、フィラーコートで黒く塗られた車の数は $k(C_l)$ に等しくなければならない\n",
    "\n",
    "この制約は、車種 $C_l$ に対する $k(C_l)$ -hot 制約として定式化することができます。すなわち、以下のように定式化できます。\n",
    "\n",
    "$$\n",
    "\\sum_{i\\in C_l} q_i = k(C_l) \\ \\forall\\ l\n",
    "$$\n",
    "\n",
    "### 目的関数\n",
    "\n",
    "MCPS問題の目的は、フィラーコート作業における塗料の切り替え回数を最小化することです。この目的を言い換えると、連続する車へ塗る塗料の色をなるべく同じにすることだと言えます。連続する車が同じ色で塗られることは、イジングモデルの強磁性定式化に倣って、次のように定式化することができます。\n",
    "\n",
    "$$\n",
    "H_A = -\\sum_{i=0}^{N-2}s_is_{i+1}.\n",
    "$$\n",
    "\n",
    "ここで $s_i \\in \\{-1, 1\\}$ はスピン変数です。スピン変数とバイナリ変数の間には相互変換可能な関係があり、スピン変数をバイナリ変数に直すには、 $s_i = 2q_i -1$ という代入を行えば良いです。よって、上の定式化は以下のようにバイナリ変数のみの定式化に書き換えることができます。\n",
    "\n",
    "$$\n",
    "H_A = -\\sum_{i=0}^{N-2}s_is_{i+1} = -\\sum_{i=0}^{N-2}(2q_i - 1)(2q_{i+1} - 1)\n",
    "$$\n",
    "\n",
    "これらの制約と目的関数をまとめることで、MCPS問題は以下のように定式化することができます。\n",
    "\n",
    "$$\n",
    "\\begin{aligned}\n",
    "&\\text{Minimize}\\quad H_A = -\\sum_{i=0}^{N-2}(2q_i - 1)(2q_{i+1} - 1) \\\\\n",
    "&\\text{subject to } \\sum_{i\\in C_l} q_i = k(C_l)　\\forall\\  l\n",
    "\\end{aligned}\n",
    "$$"
   ]
  },
  {
   "cell_type": "markdown",
   "id": "0e5977b4",
   "metadata": {},
   "source": [
    "## JijModelingによる定式化\n",
    "\n",
    "次に、JijModelingを使って上記の数理モデルを実装してみましょう。まずは、数理モデルに現れる変数およびパラメーターを定義します。"
   ]
  },
  {
   "cell_type": "code",
   "execution_count": null,
   "id": "fc28391e",
   "metadata": {},
   "outputs": [],
   "source": [
    "import jijmodeling as jm\n",
    "\n",
    "N = jm.Placeholder(\"N\") # Number of cars\n",
    "n = jm.Placeholder(\"n\") # Number of car models\n",
    "C = jm.Placeholder(\"C\", ndim=2) # indices of each car models\n",
    "K = jm.Placeholder(\"K\", ndim=1) # Number of black cars for each car models\n",
    "\n",
    "q = jm.BinaryVar(\"q\", shape=(N,))\n",
    "\n",
    "l = jm.Element(\"l\", belong_to=(0,n))\n",
    "i = jm.Element(\"i\", belong_to=C[l]) \n",
    "j = jm.Element(\"j\", belong_to=(0,N-1))"
   ]
  },
  {
   "cell_type": "markdown",
   "id": "6116fd58-6255-4226-bd78-c64cec16d3f4",
   "metadata": {},
   "source": [
    "ここで車種 $C_l$ は以下のような形のデータで格納されることを想定しています。\n",
    "\n",
    "```python\n",
    "[[0, 3, 8, 10], [1, 4, 6, 9, 12], [2, 5, 7, 11, 13]] \n",
    "```\n",
    "\n",
    "例えば、上のデータであれば、車種 $C_0$ の車は `0`, `3`, `8`, `10` で、車種 $C_1$ の車は `1`, `4`, `6`, `9`, `12`、車種 $C_2$ の車は `2`, `5`, `7`, `11`, `13` です。JijModelingは、このような形のデータを2次元の `Placeholder` として格納することができます。\n",
    "\n",
    "変数およびパラメーターが定義できたので、次に、MCPS問題を表す数理モデルを定式化しましょう。以下のようにすることでMCPS問題を定式化することができます。"
   ]
  },
  {
   "cell_type": "code",
   "execution_count": null,
   "id": "63ec27ca",
   "metadata": {},
   "outputs": [],
   "source": [
    "problem = jm.Problem(\"multi car paint\")\n",
    "\n",
    "problem += jm.Constraint(\"K_l-hot constraint\", jm.sum(i,q[i]) == K[l], forall=l)\n",
    "problem += -jm.sum(j,(2*q[j] - 1)*(2*q[j+1] - 1))\n",
    "problem"
   ]
  },
  {
   "cell_type": "markdown",
   "id": "092af94f",
   "metadata": {},
   "source": [
    "## インスタンスデータの準備\n",
    "\n",
    "以下では、車の台数を30台、車種の数を4種類とするランダムなインスタンスデータを準備します。次のコードでそのようなインスタンスデータを生成することができます。"
   ]
  },
  {
   "cell_type": "code",
   "execution_count": null,
   "id": "5f085eae-a6db-41f8-a099-c1078e289990",
   "metadata": {},
   "outputs": [],
   "source": [
    "import numpy as np\n",
    "\n",
    "num_carmodels = 4\n",
    "num_cars = 30\n",
    "sequence = np.random.choice(range(num_carmodels), num_cars)\n",
    "carmodels_list = [[] for i in range(num_carmodels)]\n",
    "for index,car_index in enumerate(sequence):\n",
    "    carmodels_list[car_index].append(index)"
   ]
  },
  {
   "cell_type": "code",
   "execution_count": null,
   "id": "b8627285-01a7-4670-9182-bc0f11406eb4",
   "metadata": {},
   "outputs": [],
   "source": [
    "num_blackcar = [int(np.ceil(len(cars)/2)) for cars in carmodels_list]\n",
    "instance_data = {\"N\": num_cars, \"n\": num_carmodels, \"K\": num_blackcar, \"C\": carmodels_list}"
   ]
  },
  {
   "cell_type": "code",
   "execution_count": null,
   "id": "cf13e78f-171c-477e-8924-e076b5b66a58",
   "metadata": {},
   "outputs": [],
   "source": [
    "instance_data"
   ]
  },
  {
   "cell_type": "markdown",
   "id": "e372a48f",
   "metadata": {},
   "source": [
    "## MCPS問題を解く\n",
    "\n",
    "さて、これでMCPS問題を解くためのすべての準備が完了しました。以下のコードを実行してMCPS問題を解いてみましょう。ここではJijZeptが提供しているソルバー `jijzept_solver` を利用してMCPS問題を解くこととします。"
   ]
  },
  {
   "cell_type": "code",
   "execution_count": null,
   "id": "af98fc34",
   "metadata": {},
   "outputs": [],
   "source": [
    "import jijzept_solver\n",
    "\n",
    "interpreter = jm.Interpreter(instance_data)\n",
    "ommx_instance = interpreter.eval_problem(problem)\n",
    "\n",
    "ommx_solution = jijzept_solver.solve(ommx_instance, time_limit_sec=4)"
   ]
  },
  {
   "cell_type": "markdown",
   "id": "8d60add6-ef7f-4d4c-99e5-8574e62151bb",
   "metadata": {},
   "source": [
    "## 解の確認\n",
    "\n",
    "得られた解がどのようになっているのか確認してみましょう。 `ommx.v1.Solution` の `decision_variables` プロパティにアクセスすることで確認できます。"
   ]
  },
  {
   "cell_type": "code",
   "execution_count": null,
   "id": "afed17b0",
   "metadata": {},
   "outputs": [],
   "source": [
    "df = ommx_solution.decision_variables_df\n",
    "df"
   ]
  },
  {
   "cell_type": "markdown",
   "id": "d30d78e2",
   "metadata": {},
   "source": [
    "## 解の可視化\n",
    "\n",
    "最後に、今回の問題に対してどのようにフィラーコートの塗り分けを行えば良いのかを確認してみましょう。以下のコードを実行することで塗り分け方の可視化をすることができます。"
   ]
  },
  {
   "cell_type": "code",
   "execution_count": null,
   "id": "d1266f29",
   "metadata": {},
   "outputs": [],
   "source": [
    "import matplotlib.pyplot as plt\n",
    "import matplotlib.patches as patches\n",
    "\n",
    "solution = df[\"value\"].to_list()\n",
    "fig, ax = plt.subplots(figsize=(15,8))\n",
    "ax.tick_params(labelleft=False,left=False,bottom=False)\n",
    "plt.gca().spines[\"right\"].set_visible(False)\n",
    "plt.gca().spines[\"left\"].set_visible(False)\n",
    "plt.gca().spines[\"top\"].set_visible(False)\n",
    "\n",
    "for i in range(num_cars):\n",
    "    position = (1.5*i, 0)\n",
    "    circ = patches.Circle(xy=position, radius=0.5, fc= \"k\" if solution[i] else \"w\", ec=\"k\")\n",
    "    c_txt = plt.text(*position, \"C%s\"%(sequence[i]), color = \"w\" if solution[i] else \"k\", horizontalalignment=\"center\", verticalalignment=\"center\")\n",
    "    ax.add_patch(circ)\n",
    "ax.set_xticks(np.arange(num_cars)*1.5, np.arange(num_cars),fontsize=10)   \n",
    "ax.set_xlim(-1, 1.5*num_cars-0.5)\n",
    "ax.set_ylim(-1, 1)\n",
    "ax.set_aspect(\"equal\")\n",
    "plt.show()"
   ]
  },
  {
   "cell_type": "markdown",
   "id": "de429253",
   "metadata": {
    "tags": []
   },
   "source": [
    "## 参考文献\n",
    "\n",
    "[1] Sheir Yarkoni, et al., \"[Multi-car paint shop optimization with quantum annealing](https://arxiv.org/abs/2109.07876)\" (2019)"
   ]
  }
 ],
 "metadata": {
  "kernelspec": {
   "display_name": ".venv",
   "language": "python",
   "name": "python3"
  },
  "language_info": {
   "codemirror_mode": {
    "name": "ipython",
    "version": 3
   },
   "file_extension": ".py",
   "mimetype": "text/x-python",
   "name": "python",
   "nbconvert_exporter": "python",
   "pygments_lexer": "ipython3",
   "version": "3.10.13"
  }
 },
 "nbformat": 4,
 "nbformat_minor": 5
}

{
 "cells": [
  {
   "attachments": {},
   "cell_type": "markdown",
   "metadata": {},
   "source": [
    "# ディープ・スペース・ネットワークのスケジューリング問題\n",
    "\n",
    "ディープ・スペース・ネットワーク（以下、DSN）とは、NASAが保有する電波望遠鏡のネットワークです。DSNは惑星観測だけでなく、宇宙探査機との通信にも利用されています。宇宙探査機の数が増加する中、通信のスケジューリングは非常に難しい問題となっています。本チュートリアルでは、D-Waveが定式化したDSNのスケジューリング問題をどのように解くかを説明します。\n",
    "\n",
    "## 導入\n",
    "\n",
    "DSNは、オーストラリア・スペイン・アメリカにまたがる電波望遠鏡を繋いだネットワークです。これらあの電波望遠鏡は主に、宇宙に打ち上げられた宇宙探査機との交信、電波波長帯域での惑星観測ミッションに役立てられています。しかし、宇宙探査機の増加やその交信の複雑化が進む昨今では、どのアンテナをどの宇宙探査機との交信に用いるか（あるいは、どのミッションに割り当てるか）のスケジューリングは困難を極めます。近年では、複数台の電波望遠鏡をネットワークで繋ぎ、これらをあるパターンに従って操作することで信号間の干渉を利用する電波干渉技術も注目を集めており、今後もスケジューリングの困難さは増していくでしょう。\n",
    "\n",
    "Guillaume et al., 2022では、このスケジューリング問題をQUBO定式化し、D-Waveのハイブリッドソルバーを用いて解きました。今回はその定式化をJijModelingで実装し、解いてみることとします。\n",
    "\n",
    "## 定式化\n",
    "\n",
    "$N$ 個のリクエストがあり、これを $\\mathcal{Q} = \\{Q_1, Q_2, \\dots, Q_N\\}$ とします。あるリクエスト $Q_n$ が $M$ 個の(アンテナや装置などの地上の)リソースに割り当てることを考えます。このリソースの集合を $\\mathcal{S} = \\{S_1, S_2, \\dots, S_M\\}$ とするとき、各地上のリソース $S_m$ に対し、宇宙にある衛星が見える期間を $\\mathcal{V} = \\{V_1, V_2, \\dots, V_K\\}$ とします。衛星が見える期間の開始時刻(rise time)と終了時刻(set time)をそれぞれrt, stと定義します。また、実際に衛星に信号を送信が開始できるようになるのはrtからわずかに遅れた時刻であり、送信ができるのはstからわずかに早い時刻までであるため、実際に送信が開始できる時刻と送信が終了する時刻をtn, tfと定義することとします。加えて、各リクエストに対して、要求された装置を準備する時間、装置を撤去するための時間が必要なので、それらをsu, tdと定義します。さらに、各リクエストにはトラッキングの継続時間drが定められていることとします。\n",
    "\n",
    "これらをインスタンスデータとして、最適化を行います。DSNスケジュール最適化の目的は、全てのリクエストを満たすこと、言い換えればリクエストごとに正確に一つのアクションをスケジュールすることです。そのために、 $x_{n, m, k, t}$ のようなバイナリ変数を用意しましょう。これは時刻 $t$ からトラッキングを開始し、衛星が見える期間 $k$ の間にリソース $m$ を用いてリクエスト $n$ を処理する場合に1、そうでない場合に0となるようなものです。\n",
    "\n",
    "![](assets/radio_telescope_scheduling_en_01.png)\n",
    "\n",
    "### 制約1: 全てのリクエストは決められた時間内に、どれかのアンテナで処理されなければならない\n",
    "\n",
    "制約1を数式で表現すると、以下のようになります。\n",
    "\n",
    "$$\n",
    "\\sum_{m=1}^M \\sum_{k=1}^K \\sum_{t} x_{n, m, k, t} = 1 \\qquad \\forall n, t^\\mathrm{tn} \\leq t \\leq t^\\mathrm{tf}-\\Delta t^\\mathrm{dr} \\tag{1}\n",
    "$$\n",
    "\n",
    "実際にリクエスト送信を開始できるtnから、tf-drまでにリクエストの送信を終える必要があります。drだけトラッキング継続時間がかかるため、その分早くリクエストを送信しておかなければなりません。\n",
    "\n",
    "### 制約2: 衝突が起きてはならない\n",
    "\n",
    "次の図に示すように、同じアンテナで同じ時間に2つのスケジュールが重なってはなりません。\n",
    "\n",
    "![](assets/radio_telescope_scheduling_en_02.png)\n",
    "\n",
    "上の図では、リクエスト $i$ と $j$、 $j$ と $k$ は重なっていませんが、 $j$ と $k$ が重なってしまっています。このようなスケジュールの重なりは避けねばなりません。これを数式で表現すると以下のようになります。\n",
    "\n",
    "$$\n",
    "\\begin{align}\n",
    "& x_{n, m, k, t} x_{n', m', k', t'} = 0 \\\\\n",
    "& \\quad (Q_n \\neq Q_{n'}, S_m = S_{m'}, t-\\Delta t^\\mathrm{su} \\leq t'-\\Delta t^\\mathrm{su'} \\leq t + \\Delta t^\\mathrm{dr} + \\Delta t^\\mathrm{td} \\ \\mathrm{or} \\ t' - \\Delta t^\\mathrm{su'} \\leq t-\\Delta t^\\mathrm{su} \\leq t' + \\Delta t^\\mathrm{dr'} + \\Delta t^\\mathrm{td'})\n",
    "\\end{align} \\tag{2}\n",
    "$$"
   ]
  },
  {
   "attachments": {},
   "cell_type": "markdown",
   "metadata": {},
   "source": [
    "## JijModelingによる定式化\n",
    "\n",
    "以下では、JijModelingを用いて上記で定式化した数理モデルを実装します。\n",
    "\n",
    "### パラメーターと決定変数\n",
    "\n",
    "式(1)および式(2)を定義するために必要なパラメーターと決定変数を定義しましょう。"
   ]
  },
  {
   "cell_type": "code",
   "execution_count": null,
   "metadata": {},
   "outputs": [],
   "source": [
    "import jijmodeling as jm\n",
    "\n",
    "AT = jm.Placeholder(\"AT\", ndim=4)\n",
    "max_AT = jm.Placeholder(\"max_AT\")\n",
    "N = jm.Placeholder(\"N\")\n",
    "M = jm.Placeholder(\"M\")\n",
    "K = jm.Placeholder(\"K\")\n",
    "su = jm.Placeholder(\"su\", ndim=1)\n",
    "dr = jm.Placeholder(\"dr\", ndim=1)\n",
    "td = jm.Placeholder(\"td\", ndim=1)\n",
    "x = jm.BinaryVar(\"x\", shape=(N, M, K, max_AT))\n",
    "n1 = jm.Element(\"n1\", belong_to=N)\n",
    "n2 = jm.Element(\"n2\", belong_to=N)\n",
    "m = jm.Element(\"m\", belong_to=M)\n",
    "k1 = jm.Element(\"k1\", belong_to=K)\n",
    "k2 = jm.Element(\"k2\", belong_to=K)\n",
    "t1 = jm.Element(\"t1\", belong_to=AT[n1, m, k1])\n",
    "t2 = jm.Element(\"t2\", belong_to=AT[n2, m, k2])"
   ]
  },
  {
   "cell_type": "markdown",
   "metadata": {},
   "source": [
    "`AT` はリクエストの処理開始時間、 `max_AT` は `AT` の最大値、 `N` はリクエストの総数、 `M` は地上のリソースの数、 `K` は宇宙にある衛星の見える期間の総数として定義しています。 `su`, `dr`, `td` はそれぞれ装置の準備時間、トラッキングの継続時間、装置の撤去時間を定義しています。そして、決定変数 $x_{n, m, k, t}$ として `x` を定義しており、後の数理モデルの実装のために必要な添字として `n1`, `n2`, `m`, `k1`, `k2`, `t1`, `t2` を定義しています。ここで `t1`, `t2` の取り得る範囲を `AT[n1, m, k1]`, `AT[n2, m, k2]` としていることにも注意してください。これは数理モデルの $t_1 \\in \\mathrm{AT}_{n1, m, k1}, t_2 \\in \\mathrm{AT}_{n2, m, k2}$ の部分を表現しています。"
   ]
  },
  {
   "cell_type": "markdown",
   "metadata": {},
   "source": [
    "### 数理モデルの定義\n",
    "\n",
    "次に、式(1)および式(2)を制約とする数理モデルを実装します。"
   ]
  },
  {
   "cell_type": "code",
   "execution_count": null,
   "metadata": {},
   "outputs": [],
   "source": [
    "problem = jm.Problem(\"Radio_telescope_scheduling\")\n",
    "problem += jm.Constraint(\"onehot\", jm.sum([m, k1, t1], x[n1, m, k1, t1])==1, forall=n1)\n",
    "problem += jm.Constraint(\n",
    "    \"conflict\",\n",
    "    x[n1, m, k1, t1]*x[n2, m, k2, t2]==0, \n",
    "    forall=[\n",
    "        n1, (n2, n2!=n1), m, k1, k2, t1, \n",
    "        (t2, (t1-su[n1]<=t2-su[n2]) & (t2-su[n2]<=t1+dr[n1]+td[n1]) | ((t2-su[n2]<=t1-su[n1]) & (t1-su[n1]<=t2+dr[n2]+td[n2])))\n",
    "    ],\n",
    ")"
   ]
  },
  {
   "cell_type": "markdown",
   "metadata": {},
   "source": [
    "JijModelingでは、式(1)に含まれる $\\sum_{m, k, t}$ を `sum([m, k, t], ...) `のように定義することができます。また、式(2)に含まれる複雑な条件式も、上記のコードのように実装することができます。\n",
    "\n",
    "これで数理モデルの実装は完了です。正しく数理モデルが実装されているかをLaTeX表示を通して確認してみましょう。"
   ]
  },
  {
   "cell_type": "code",
   "execution_count": null,
   "metadata": {},
   "outputs": [],
   "source": [
    "problem"
   ]
  },
  {
   "cell_type": "markdown",
   "metadata": {},
   "source": [
    "### インスタンスデータの準備\n",
    "\n",
    "数理モデルの実装が完了したので、パラメーターに入力する値としてインスタンスデータを準備しましょう。今回の説明では以下のコードから生成されるインスタンスデータを利用します。"
   ]
  },
  {
   "cell_type": "code",
   "execution_count": null,
   "metadata": {},
   "outputs": [],
   "source": [
    "import collections\n",
    "import numpy as np\n",
    "\n",
    "def flatten(l):\n",
    "    for el in l:\n",
    "        if isinstance(el, collections.abc.Iterable) and not isinstance(el, (str, bytes)):\n",
    "            yield from flatten(el)\n",
    "        else:\n",
    "            yield el\n",
    "\n",
    "# set the number of requests\n",
    "inst_N = 12\n",
    "# set a list of set up time period: su\n",
    "rng = np.random.default_rng(1234)\n",
    "inst_su = rng.normal(2.0, 0.5, inst_N).tolist()\n",
    "# set a list of track duration: dr\n",
    "inst_dr = rng.normal(2.0, 0.5, inst_N).tolist()\n",
    "# set a list of tear down time period: td\n",
    "inst_td = rng.normal(1.5, 0.5, inst_N).tolist()\n",
    "# set a array of transmission-on time: tn\n",
    "inst_tn = np.array([[0, 6, 12, 18], [2, 8, 14, 20], [4, 10, 16, 22]])\n",
    "# set a array of transmission-off time: tf\n",
    "inst_tf = np.array([[4, 10, 16, 22], [6, 12, 18, 24], [8, 14, 20, 26]])\n",
    "# get the number of resources and viewperiods\n",
    "inst_M = inst_tn.shape[0]\n",
    "inst_K = inst_tn.shape[1]\n",
    "# compute a array of available time tn ≤ t ≤ tf - dr\n",
    "inst_available = []\n",
    "for n in range(inst_N):\n",
    "    inst_available.append([])\n",
    "    for i in range(inst_M):\n",
    "        inst_available[n].append([])\n",
    "        for j in range(inst_tf.shape[1]):\n",
    "            inst_available[n][i].append(list(range(inst_tn[i, j], np.floor(inst_tf[i, j]-inst_dr[n]).astype(int))))\n",
    "# compute max(available time)\n",
    "inst_max_available = np.amax(list(flatten(inst_available))) + 1\n",
    "instance_data = {\"AT\": inst_available, \"su\": inst_su, \"dr\": inst_dr, \"td\": inst_td, \"max_AT\": inst_max_available, \"N\": inst_N, \"M\": inst_M, \"K\": inst_K}"
   ]
  },
  {
   "cell_type": "markdown",
   "metadata": {},
   "source": [
    "### DSNのスケジューリング問題を解く\n",
    "\n",
    "さて、これでDSNのスケジューリング問題を解くためのすべての準備が完了しました。以下のコードを実行してDSNのスケジューリング問題を解いてみましょう。以下のコードは `ommx-pyscipopt-adapter` を介して最適化ソルバー `SCIP` で問題を解くものです。"
   ]
  },
  {
   "cell_type": "code",
   "execution_count": null,
   "metadata": {},
   "outputs": [],
   "source": [
    "from ommx_pyscipopt_adapter import OMMXPySCIPOptAdapter\n",
    "\n",
    "interpreter = jm.Interpreter(instance_data)\n",
    "ommx_instance = interpreter.eval_problem(problem)\n",
    "\n",
    "ommx_solution = OMMXPySCIPOptAdapter.solve(ommx_instance)\n",
    "df = ommx_solution.decision_variables_df\n",
    "df[df[\"value\"] == 1.0]"
   ]
  },
  {
   "cell_type": "markdown",
   "metadata": {},
   "source": [
    "# 解の可視化\n",
    "\n",
    "最後に、上記で得られた解を用いて実行可能なスケジュールを確認してみましょう。以下のコードでスケジュールを可視化することができます。"
   ]
  },
  {
   "cell_type": "code",
   "execution_count": null,
   "metadata": {},
   "outputs": [],
   "source": [
    "import matplotlib.pyplot as plt\n",
    "import matplotlib.ticker as ticker\n",
    "\n",
    "subscripts = df[df[\"value\"] == 1.0][\"subscripts\"].to_list()\n",
    "n_indices = [subscript[0] for subscript in subscripts]\n",
    "m_indices = [subscript[1] for subscript in subscripts]\n",
    "k_indices = [subscript[2] for subscript in subscripts]\n",
    "t_indices = [subscript[3] for subscript in subscripts]\n",
    "# make plot\n",
    "fig, ax = plt.subplots()\n",
    "# set x- and y-axis\n",
    "ax.set_xlabel(\"Time\")\n",
    "ax.set_yticks(range(inst_M))\n",
    "ax.set_yticklabels([\"Resource {}\".format(m) for m in range(inst_M)])\n",
    "ax.get_xaxis().set_major_locator(ticker.MaxNLocator(integer=True))\n",
    "# make bar plot for transmission using broken_barh\n",
    "for n, m, k, t in zip(n_indices, m_indices, k_indices, t_indices):\n",
    "    ax.broken_barh([(t, inst_dr[n])], (m-0.5, 1), color=\"dodgerblue\")\n",
    "    ax.broken_barh([(t-inst_su[n], inst_su[n])], (m-0.5, 1), color=\"gold\")\n",
    "    ax.broken_barh([(t+inst_dr[n], inst_td[n])], (m-0.5, 1), color=\"violet\")\n",
    "# make bar plot for available time\n",
    "for m, (list_tn, list_tf) in enumerate(zip(inst_tn, inst_tf)):\n",
    "    for tn, tf in zip(list_tn, list_tf):\n",
    "        ax.broken_barh([(tn, tf-tn-1)], (m-0.5, 1), color=\"lightgray\", alpha=0.4)\n",
    "# make legend\n",
    "ax.scatter([], [], color=\"lightgray\", label=\"Transimission available\", marker=\"s\")\n",
    "ax.scatter([], (), color=\"dodgerblue\", label=\"Tracking\", marker=\"s\")\n",
    "ax.scatter([], (), color=\"gold\", label=\"Set up\", marker=\"s\")\n",
    "ax.scatter([], (), color=\"violet\", label=\"Tear down\", marker=\"s\")\n",
    "ax.legend(bbox_to_anchor=(1.45, 1.0))\n",
    "# show plot\n",
    "plt.show()"
   ]
  },
  {
   "cell_type": "markdown",
   "metadata": {},
   "source": [
    "上の図では、灰色が各リソースと宇宙探査機が通信できる時間を示しており、青色がトラッキング時間、黄色とマゼンタが各リクエストの準備時間と撤去時間を示しています。灰色（通信時間）が青色（トラッキング時間）にすべて塗りつぶされているため、このスケジュールであればすべての通信を実現できることがわかります。"
   ]
  },
  {
   "cell_type": "markdown",
   "metadata": {},
   "source": [
    "## 参考文献\n",
    "\n",
    "* [Guillaume et al., 2022, \"Deep Space Network Scheduling Using Quantum Annealing\"](https://ieeexplore.ieee.org/document/9863923)  \n"
   ]
  }
 ],
 "metadata": {
  "kernelspec": {
   "display_name": "Python 3 (ipykernel)",
   "language": "python",
   "name": "python3"
  },
  "language_info": {
   "codemirror_mode": {
    "name": "ipython",
    "version": 3
   },
   "file_extension": ".py",
   "mimetype": "text/x-python",
   "name": "python",
   "nbconvert_exporter": "python",
   "pygments_lexer": "ipython3",
   "version": "3.11.10"
  },
  "vscode": {
   "interpreter": {
    "hash": "d8bb8d8f316256c93cd9d893faf7cf943ba8f6c0b9f3d1c8a75ecb1cf0541374"
   }
  }
 },
 "nbformat": 4,
 "nbformat_minor": 4
}

{
 "cells": [
  {
   "cell_type": "markdown",
   "metadata": {},
   "source": [
    "# クイックスタート\n",
    "\n",
    "このガイドでは minto を活用するための初期手順を案内します。このセクションでは、minto のセットアップから実験データの取り扱いまでの 4 つの主要なステップを説明します。\n",
    "\n",
    "- minto のインストール方法\n",
    "- 実験データの記録\n",
    "- 記録された実験データのテーブル表示\n",
    "- 実験データの保存と読み込み\n",
    "\n",
    "## インストール\n",
    "\n",
    "```bash\n",
    "pip install minto\n",
    "```"
   ]
  },
  {
   "cell_type": "markdown",
   "metadata": {},
   "source": [
    "## 実験データの記録\n",
    "\n",
    "minto を使うと、実験中に生成されるさまざまなデータを簡単に記録できます。\n",
    "次の例では、OMMX でサポートされている PySCIPOpt を用いて、MIP ソルバーのタイムリミット依存性について数値実験を行います。\n",
    "minto は OMMX メッセージをネイティブにサポートしているため、OMMX を通じてスムーズに数値実験を実施できます。\n",
    "\n",
    "さっそく試してみましょう。"
   ]
  },
  {
   "cell_type": "code",
   "execution_count": null,
   "metadata": {},
   "outputs": [],
   "source": [
    "import minto\n",
    "import ommx_pyscipopt_adapter as scip_ad\n",
    "from ommx.dataset import miplib2017"
   ]
  },
  {
   "cell_type": "markdown",
   "metadata": {},
   "source": [
    "このチュートリアルでは、ベンチマークとして miplib2017 のインスタンスを取り上げます。ommx.dataset を使用して、miplib2017 のインスタンスを簡単に取得できます。"
   ]
  },
  {
   "cell_type": "code",
   "execution_count": null,
   "metadata": {},
   "outputs": [],
   "source": [
    "instance_name = \"reblock115\"\n",
    "instance = miplib2017(instance_name)"
   ]
  },
  {
   "cell_type": "markdown",
   "metadata": {},
   "source": [
    "`ommx_pyscipopt_adapter` を使用して、ommx.v1.Instance を PySCIPOpt の Model に変換し、limits/time パラメータを変化させながら実験を行います。\n",
    "\n",
    "ommx インスタンスとソリューションは、MINTO の `.log_*` メソッドで保存できます。この数値実験では単一のインスタンスを使用しており、実験全体で変化がないため、with ブロックの外側（`experiment` 空間）でインスタンスを保存します。\n",
    "タイムリミットごとにソリューションが異なるため、ソリューションはwith ブロック内（`run` 空間）で保存します。"
   ]
  },
  {
   "cell_type": "code",
   "execution_count": null,
   "metadata": {},
   "outputs": [],
   "source": [
    "timelimit_list = [0.1, 0.5, 1, 2]\n",
    "\n",
    "# auto_saving が True の場合、Experiment.log_* メソッドが呼び出されるたびにデータが自動的に保存されます。\n",
    "# データは段階的に保存されるため、途中でエラーが発生しても、それまでのデータは失われません。\n",
    "experiment = minto.Experiment(\n",
    "    name='scip_exp',\n",
    "    auto_saving=True\n",
    ")\n",
    "\n",
    "experiment.log_instance(instance_name, instance)\n",
    "adapter = scip_ad.OMMXPySCIPOptAdapter(instance)\n",
    "scip_model = adapter.solver_input\n",
    "\n",
    "for timelimit in timelimit_list:\n",
    "    with experiment.run():\n",
    "        experiment.log_parameter(\"timelimit\", timelimit)\n",
    "\n",
    "        # SCIP による求解を実行\n",
    "        scip_model.setParam(\"limits/time\", timelimit)\n",
    "        scip_model.optimize()\n",
    "        solution = adapter.decode(scip_model)\n",
    "\n",
    "        experiment.log_solution(\"scip\", solution)"
   ]
  },
  {
   "cell_type": "markdown",
   "metadata": {},
   "source": [
    "ommx.Solution を pandas.DataFrame に変換する際、`.get_run_table` メソッドを利用すると、ソリューションの主要情報のみが表示されます。実際のソリューションオブジェクトにアクセスしたい場合は、`experiment.dataspaces.run_datastores[run_id].solutions` から参照してください。"
   ]
  },
  {
   "cell_type": "code",
   "execution_count": null,
   "metadata": {},
   "outputs": [],
   "source": [
    "runs_table = experiment.get_run_table()\n",
    "runs_table"
   ]
  },
  {
   "cell_type": "code",
   "execution_count": null,
   "metadata": {},
   "outputs": [],
   "source": [
    "import matplotlib.pyplot as plt\n",
    "\n",
    "x = runs_table[\"parameter\", \"timelimit\"]\n",
    "y = runs_table[\"solution_scip\", \"objective\"]\n",
    "plt.plot(x, y, \"o-\")\n",
    "plt.xlabel(\"Time limit\")\n",
    "plt.ylabel(\"Objective\")\n",
    "plt.show()"
   ]
  },
  {
   "cell_type": "markdown",
   "metadata": {},
   "source": [
    "## 実験データの保存と読み込み\n",
    "\n",
    "`Experiment` コンストラクタで `auto_saving` を `False` に設定すると、自動保存を無効にできます。この場合、`Experiment.save` メソッドを使って任意のタイミングでデータを保存できます。\n",
    "また、`Experiment.load_from_dir` メソッドを使って、保存したデータを読み込むことも可能です。"
   ]
  },
  {
   "cell_type": "code",
   "execution_count": null,
   "metadata": {},
   "outputs": [],
   "source": [
    "# デフォルトでは、データは .minto_experiments/ ディレクトリに保存されます。\n",
    "experiment.save()"
   ]
  },
  {
   "cell_type": "code",
   "execution_count": null,
   "metadata": {},
   "outputs": [],
   "source": [
    "exp2 = minto.Experiment.load_from_dir(\n",
    "    \".minto_experiments/\" + experiment.experiment_name\n",
    ")"
   ]
  },
  {
   "cell_type": "code",
   "execution_count": null,
   "metadata": {},
   "outputs": [],
   "source": [
    "exp2.get_run_table()"
   ]
  },
  {
   "cell_type": "markdown",
   "metadata": {},
   "source": [
    "## OMMX アーカイブへの保存と読み込み\n",
    "\n",
    "`Experiment.save_to_ommx_archive` および `Experiment.load_from_ommx_archive` メソッドを使用することで、OMMX アーカイブへのデータの保存と、OMMX アーカイブからのデータの読み込みが可能です。"
   ]
  },
  {
   "cell_type": "code",
   "execution_count": null,
   "metadata": {},
   "outputs": [],
   "source": [
    "artifact = experiment.save_as_ommx_archive(\"scip_experiment.ommx\")"
   ]
  },
  {
   "cell_type": "code",
   "execution_count": null,
   "metadata": {},
   "outputs": [],
   "source": [
    "exp3 = minto.Experiment.load_from_ommx_archive(\"scip_experiment.ommx\")\n",
    "exp3.get_run_table()"
   ]
  },
  {
   "cell_type": "markdown",
   "metadata": {},
   "source": [
    "# まとめ\n",
    "\n",
    "このチュートリアルでは、数値実験を管理するための `minto` の使い方を学びました:\n",
    "\n",
    "1. **インストール** はpip を使って簡単に実行できます:\n",
    "    ```bash\n",
    "    pip install minto\n",
    "    ```\n",
    "\n",
    "2. **実験データの記録**\n",
    "    - OMMX インターフェースを介した SCIP ソルバーの使用\n",
    "    - 0.1 秒から 2.0 秒まで異なるタイムリミットで実験を実施\n",
    "    - インスタンス情報とソリューションの結果を体系的に記録\n",
    "\n",
    "3. **データ管理**\n",
    "    - `auto_saving=True` による自動保存\n",
    "    - `experiment.save()` による手動保存\n",
    "    - pandas DataFrame と matplotlib を用いたデータの可視化\n",
    "    - 結果では目的関数値が -2.92e+07 に収束\n",
    "\n",
    "4. **データの永続化**\n",
    "    - `.minto_experiments/` ディレクトリへのローカル保存\n",
    "    - OMMX アーカイブ形式サポート\n",
    "    - `load_from_dir` や `load_from_ommx_archive` で簡単にデータを復元\n",
    "\n",
    "これらの手順によって、最適化タスクにおける `minto` の構造的な実験管理機能が示されました。"
   ]
  }
 ],
 "metadata": {
  "kernelspec": {
   "display_name": "Python 3 (ipykernel)",
   "language": "python",
   "name": "python3"
  },
  "language_info": {
   "codemirror_mode": {
    "name": "ipython",
    "version": 3
   },
   "file_extension": ".py",
   "mimetype": "text/x-python",
   "name": "python",
   "nbconvert_exporter": "python",
   "pygments_lexer": "ipython3",
   "version": "3.11.10"
  }
 },
 "nbformat": 4,
 "nbformat_minor": 4
}
